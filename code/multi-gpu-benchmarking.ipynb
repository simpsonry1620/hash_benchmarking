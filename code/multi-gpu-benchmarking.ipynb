{
 "cells": [
  {
   "cell_type": "markdown",
   "id": "293c132e-af52-4255-91ac-54c62ea82808",
   "metadata": {},
   "source": [
    "# Multi-GPU Cracker Benchmarking\n",
    "\n",
    "Estimation function\n",
    "T_minutes(n, f) = ((3.90 * 10^-7 * 46.37^n) / f^0.9) / 60\n",
    "n = number of characters\n",
    "f = FP32 TFLOPs\n",
    "\n",
    "https://www.techpowerup.com/gpu-specs/rtx-3500-mobile-ada-generation.c4098\n",
    "https://www.techpowerup.com/gpu-specs/rtx-a6000.c3686\n",
    "\n",
    "A3500 15.82 TFLOPS\n",
    "A6000 38.71 TFLOPS\n",
    "H100 62.08 TFLOPS"
   ]
  },
  {
   "cell_type": "code",
   "execution_count": 1,
   "id": "62d8e65d-f9d2-4aa6-baea-4ac53668c9d9",
   "metadata": {},
   "outputs": [],
   "source": [
    "def estimate_cracking_time(num_chars, gpu_tflops):\n",
    "    \"\"\"\n",
    "    Estimate the time to crack a password.\n",
    "    \n",
    "    :param num_chars: Number of characters in the password\n",
    "    :param gpu_tflops: FP32 TFLOPS of the GPU system\n",
    "    :return: Dictionary containing estimated times in various units\n",
    "    \"\"\"\n",
    "    # Constants derived from our model\n",
    "    a = 3.90 * 10**-7\n",
    "    b = 46.37\n",
    "    c = 0.9\n",
    "    \n",
    "    # Calculate time in seconds\n",
    "    time_seconds = (a * (b**num_chars)) / (gpu_tflops**c)\n",
    "    \n",
    "    # Convert to other units\n",
    "    time_minutes = time_seconds / 60\n",
    "    time_hours = time_minutes / 60\n",
    "    time_days = time_hours / 24\n",
    "    \n",
    "    return {\n",
    "        \"seconds\": time_seconds,\n",
    "        \"minutes\": time_minutes,\n",
    "        \"hours\": time_hours,\n",
    "        \"days\": time_days\n",
    "    }\n",
    "    "
   ]
  },
  {
   "cell_type": "markdown",
   "id": "4bac1db3-bb61-40ae-b78b-f86a92822b21",
   "metadata": {},
   "source": [
    "## 5-Character Password Timing\n",
    "\n",
    "* Dual RTX A6000 - 0.8156 seconds\n",
    "* Local RTX A3500 (Ada) - 2.7145 seconds"
   ]
  },
  {
   "cell_type": "code",
   "execution_count": 5,
   "id": "18b5ef2e-28df-4726-89a1-9eef8870cad0",
   "metadata": {},
   "outputs": [],
   "source": [
    "#estimate_cracking_time(5,15.82)"
   ]
  },
  {
   "cell_type": "code",
   "execution_count": 3,
   "id": "dad74f6f-8120-493a-a9e5-9ff8019fc433",
   "metadata": {},
   "outputs": [
    {
     "name": "stdout",
     "output_type": "stream",
     "text": [
      "Using 1 GPUs\n",
      "Target password: Passw\n",
      "Target hash: (76885606, 155008030)\n",
      "Verifying target hash calculation:\n",
      "Target password tensor: tensor([[ 80,  97, 115, 115, 119]], device='cuda:0', dtype=torch.int32)\n",
      "Recalculated hash: (76885606, 155008030)\n",
      "Python verification: (76885606, 155008030)\n",
      "Checking passwords of length 1\n",
      "Checking passwords of length 2\n",
      "Checking passwords of length 3\n",
      "Checking passwords of length 4\n",
      "Checking passwords of length 5\n",
      "Password found: Passw\n",
      "Time taken: 2.6679 seconds\n",
      "Total passwords checked: 615018570\n"
     ]
    }
   ],
   "source": [
    "! python3 multi_gpu_password_cracker.py Passw"
   ]
  },
  {
   "cell_type": "markdown",
   "id": "4eb11c0f-54c4-43b8-a140-e7912279bd92",
   "metadata": {},
   "source": [
    "## 6-Character Password Timing\n",
    "* Dual A6000 - 35.5601 seconds\n",
    "* Local RTX A3500 (Ada) - 125.8729 seconds"
   ]
  },
  {
   "cell_type": "code",
   "execution_count": 4,
   "id": "95301c99-33d3-4719-86d0-ffb918045642",
   "metadata": {},
   "outputs": [],
   "source": [
    "#estimate_cracking_time(6,15.82)"
   ]
  },
  {
   "cell_type": "code",
   "execution_count": 2,
   "id": "c5c2ee69-e919-40cb-b040-d29fabb33cf9",
   "metadata": {},
   "outputs": [
    {
     "name": "stdout",
     "output_type": "stream",
     "text": [
      "Using 1 GPUs\n",
      "Target password: Passwo\n",
      "Target hash: (235970248, 5735297221)\n",
      "Verifying target hash calculation:\n",
      "Target password tensor: tensor([[ 80,  97, 115, 115, 119, 111]], device='cuda:0', dtype=torch.int32)\n",
      "Recalculated hash: (235970248, 5735297221)\n",
      "Python verification: (235970250, 5735297221)\n",
      "Checking passwords of length 1\n",
      "Checking passwords of length 2\n",
      "Checking passwords of length 3\n",
      "Checking passwords of length 4\n",
      "Checking passwords of length 5\n",
      "Checking passwords of length 6\n",
      "Password found: Passwo\n",
      "Time taken: 125.8729 seconds\n",
      "Total passwords checked: 38491151402\n"
     ]
    }
   ],
   "source": [
    "! python3 multi_gpu_password_cracker.py Passwo"
   ]
  },
  {
   "cell_type": "markdown",
   "id": "0a8e2174-6261-4808-83a9-6f0b77abb1d4",
   "metadata": {},
   "source": [
    "## 7-Character Password Timing / Prediction\n",
    "* Dual A6000 - 2695.4216 seconds\n",
    "* Local RTX A3500 (Ada) - 5,835.93 seconds [ Predicted]"
   ]
  },
  {
   "cell_type": "code",
   "execution_count": null,
   "id": "cf2866ec-f904-4b85-8f33-c4d47531325e",
   "metadata": {},
   "outputs": [],
   "source": [
    "! python3 multi_gpu_password_cracker.py Passwor"
   ]
  },
  {
   "cell_type": "markdown",
   "id": "d0a24be8-f7e8-4e4c-93eb-22638abdd41f",
   "metadata": {},
   "source": [
    "## 8-Character Password Predictions\n",
    "Dual A6000 - 57.6 Hours based on T(n) = 1.29 * 10^-9 * 76.97^n"
   ]
  }
 ],
 "metadata": {
  "kernelspec": {
   "display_name": "Python 3 (ipykernel)",
   "language": "python",
   "name": "python3"
  },
  "language_info": {
   "codemirror_mode": {
    "name": "ipython",
    "version": 3
   },
   "file_extension": ".py",
   "mimetype": "text/x-python",
   "name": "python",
   "nbconvert_exporter": "python",
   "pygments_lexer": "ipython3",
   "version": "3.10.12"
  }
 },
 "nbformat": 4,
 "nbformat_minor": 5
}
